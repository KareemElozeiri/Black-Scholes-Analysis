{
 "cells": [
  {
   "attachments": {},
   "cell_type": "markdown",
   "metadata": {},
   "source": [
    "#                                                       The Black-Scholes PDE"
   ]
  },
  {
   "attachments": {},
   "cell_type": "markdown",
   "metadata": {},
   "source": [
    "### Imports:"
   ]
  },
  {
   "cell_type": "code",
   "execution_count": 3,
   "metadata": {},
   "outputs": [],
   "source": [
    "import numpy as np\n",
    "import pandas as pd\n",
    "import scipy as scp\n",
    "import matplotlib.pyplot as plt\n",
    "from mpl_toolkits import mplot3d\n",
    "from matplotlib import cm\n",
    "%matplotlib inline\n",
    "\n",
    "from scipy import sparse\n",
    "from scipy.sparse.linalg import splu\n",
    "from scipy.sparse.linalg import spsolve\n",
    "\n",
    "from IPython.display import display\n",
    "import sympy \n",
    "sympy.init_printing()"
   ]
  },
  {
   "attachments": {},
   "cell_type": "markdown",
   "metadata": {},
   "source": [
    "### Data Analysis:\n",
    "- Used Tesla Stock Price dataset recorded from 2010 to 2017"
   ]
  },
  {
   "cell_type": "code",
   "execution_count": 4,
   "metadata": {},
   "outputs": [
    {
     "data": {
      "text/html": [
       "<div>\n",
       "<style scoped>\n",
       "    .dataframe tbody tr th:only-of-type {\n",
       "        vertical-align: middle;\n",
       "    }\n",
       "\n",
       "    .dataframe tbody tr th {\n",
       "        vertical-align: top;\n",
       "    }\n",
       "\n",
       "    .dataframe thead th {\n",
       "        text-align: right;\n",
       "    }\n",
       "</style>\n",
       "<table border=\"1\" class=\"dataframe\">\n",
       "  <thead>\n",
       "    <tr style=\"text-align: right;\">\n",
       "      <th></th>\n",
       "      <th>Open</th>\n",
       "      <th>High</th>\n",
       "      <th>Low</th>\n",
       "      <th>Close</th>\n",
       "      <th>Volume</th>\n",
       "      <th>Adj Close</th>\n",
       "    </tr>\n",
       "    <tr>\n",
       "      <th>Date</th>\n",
       "      <th></th>\n",
       "      <th></th>\n",
       "      <th></th>\n",
       "      <th></th>\n",
       "      <th></th>\n",
       "      <th></th>\n",
       "    </tr>\n",
       "  </thead>\n",
       "  <tbody>\n",
       "    <tr>\n",
       "      <th>2010-06-29</th>\n",
       "      <td>19.000000</td>\n",
       "      <td>25.00</td>\n",
       "      <td>17.540001</td>\n",
       "      <td>23.889999</td>\n",
       "      <td>18766300</td>\n",
       "      <td>23.889999</td>\n",
       "    </tr>\n",
       "    <tr>\n",
       "      <th>2010-06-30</th>\n",
       "      <td>25.790001</td>\n",
       "      <td>30.42</td>\n",
       "      <td>23.299999</td>\n",
       "      <td>23.830000</td>\n",
       "      <td>17187100</td>\n",
       "      <td>23.830000</td>\n",
       "    </tr>\n",
       "    <tr>\n",
       "      <th>2010-07-01</th>\n",
       "      <td>25.000000</td>\n",
       "      <td>25.92</td>\n",
       "      <td>20.270000</td>\n",
       "      <td>21.959999</td>\n",
       "      <td>8218800</td>\n",
       "      <td>21.959999</td>\n",
       "    </tr>\n",
       "    <tr>\n",
       "      <th>2010-07-02</th>\n",
       "      <td>23.000000</td>\n",
       "      <td>23.10</td>\n",
       "      <td>18.709999</td>\n",
       "      <td>19.200001</td>\n",
       "      <td>5139800</td>\n",
       "      <td>19.200001</td>\n",
       "    </tr>\n",
       "    <tr>\n",
       "      <th>2010-07-06</th>\n",
       "      <td>20.000000</td>\n",
       "      <td>20.00</td>\n",
       "      <td>15.830000</td>\n",
       "      <td>16.110001</td>\n",
       "      <td>6866900</td>\n",
       "      <td>16.110001</td>\n",
       "    </tr>\n",
       "  </tbody>\n",
       "</table>\n",
       "</div>"
      ],
      "text/plain": [
       "                 Open   High        Low      Close    Volume  Adj Close\n",
       "Date                                                                   \n",
       "2010-06-29  19.000000  25.00  17.540001  23.889999  18766300  23.889999\n",
       "2010-06-30  25.790001  30.42  23.299999  23.830000  17187100  23.830000\n",
       "2010-07-01  25.000000  25.92  20.270000  21.959999   8218800  21.959999\n",
       "2010-07-02  23.000000  23.10  18.709999  19.200001   5139800  19.200001\n",
       "2010-07-06  20.000000  20.00  15.830000  16.110001   6866900  16.110001"
      ]
     },
     "execution_count": 4,
     "metadata": {},
     "output_type": "execute_result"
    }
   ],
   "source": [
    "df = pd.read_csv(\"Tesla.csv - Tesla.csv.csv\", index_col=0, parse_dates=True)\n",
    "df.head()"
   ]
  },
  {
   "cell_type": "code",
   "execution_count": 5,
   "metadata": {},
   "outputs": [
    {
     "data": {
      "text/html": [
       "<div>\n",
       "<style scoped>\n",
       "    .dataframe tbody tr th:only-of-type {\n",
       "        vertical-align: middle;\n",
       "    }\n",
       "\n",
       "    .dataframe tbody tr th {\n",
       "        vertical-align: top;\n",
       "    }\n",
       "\n",
       "    .dataframe thead th {\n",
       "        text-align: right;\n",
       "    }\n",
       "</style>\n",
       "<table border=\"1\" class=\"dataframe\">\n",
       "  <thead>\n",
       "    <tr style=\"text-align: right;\">\n",
       "      <th></th>\n",
       "      <th>Open</th>\n",
       "      <th>High</th>\n",
       "      <th>Low</th>\n",
       "      <th>Close</th>\n",
       "      <th>Volume</th>\n",
       "      <th>Adj Close</th>\n",
       "    </tr>\n",
       "    <tr>\n",
       "      <th>Date</th>\n",
       "      <th></th>\n",
       "      <th></th>\n",
       "      <th></th>\n",
       "      <th></th>\n",
       "      <th></th>\n",
       "      <th></th>\n",
       "    </tr>\n",
       "  </thead>\n",
       "  <tbody>\n",
       "    <tr>\n",
       "      <th>2017-03-13</th>\n",
       "      <td>244.820007</td>\n",
       "      <td>246.850006</td>\n",
       "      <td>242.779999</td>\n",
       "      <td>246.169998</td>\n",
       "      <td>3010700</td>\n",
       "      <td>246.169998</td>\n",
       "    </tr>\n",
       "    <tr>\n",
       "      <th>2017-03-14</th>\n",
       "      <td>246.110001</td>\n",
       "      <td>258.119995</td>\n",
       "      <td>246.020004</td>\n",
       "      <td>258.000000</td>\n",
       "      <td>7575500</td>\n",
       "      <td>258.000000</td>\n",
       "    </tr>\n",
       "    <tr>\n",
       "      <th>2017-03-15</th>\n",
       "      <td>257.000000</td>\n",
       "      <td>261.000000</td>\n",
       "      <td>254.270004</td>\n",
       "      <td>255.729996</td>\n",
       "      <td>4816600</td>\n",
       "      <td>255.729996</td>\n",
       "    </tr>\n",
       "    <tr>\n",
       "      <th>2017-03-16</th>\n",
       "      <td>262.399994</td>\n",
       "      <td>265.750000</td>\n",
       "      <td>259.059998</td>\n",
       "      <td>262.049988</td>\n",
       "      <td>7100400</td>\n",
       "      <td>262.049988</td>\n",
       "    </tr>\n",
       "    <tr>\n",
       "      <th>2017-03-17</th>\n",
       "      <td>264.000000</td>\n",
       "      <td>265.329987</td>\n",
       "      <td>261.200012</td>\n",
       "      <td>261.500000</td>\n",
       "      <td>6475900</td>\n",
       "      <td>261.500000</td>\n",
       "    </tr>\n",
       "  </tbody>\n",
       "</table>\n",
       "</div>"
      ],
      "text/plain": [
       "                  Open        High         Low       Close   Volume  \\\n",
       "Date                                                                  \n",
       "2017-03-13  244.820007  246.850006  242.779999  246.169998  3010700   \n",
       "2017-03-14  246.110001  258.119995  246.020004  258.000000  7575500   \n",
       "2017-03-15  257.000000  261.000000  254.270004  255.729996  4816600   \n",
       "2017-03-16  262.399994  265.750000  259.059998  262.049988  7100400   \n",
       "2017-03-17  264.000000  265.329987  261.200012  261.500000  6475900   \n",
       "\n",
       "             Adj Close  \n",
       "Date                    \n",
       "2017-03-13  246.169998  \n",
       "2017-03-14  258.000000  \n",
       "2017-03-15  255.729996  \n",
       "2017-03-16  262.049988  \n",
       "2017-03-17  261.500000  "
      ]
     },
     "execution_count": 5,
     "metadata": {},
     "output_type": "execute_result"
    }
   ],
   "source": [
    "df.tail()"
   ]
  },
  {
   "cell_type": "code",
   "execution_count": 6,
   "metadata": {},
   "outputs": [
    {
     "name": "stdout",
     "output_type": "stream",
     "text": [
      "<class 'pandas.core.frame.DataFrame'>\n",
      "DatetimeIndex: 1692 entries, 2010-06-29 to 2017-03-17\n",
      "Data columns (total 6 columns):\n",
      " #   Column     Non-Null Count  Dtype  \n",
      "---  ------     --------------  -----  \n",
      " 0   Open       1692 non-null   float64\n",
      " 1   High       1692 non-null   float64\n",
      " 2   Low        1692 non-null   float64\n",
      " 3   Close      1692 non-null   float64\n",
      " 4   Volume     1692 non-null   int64  \n",
      " 5   Adj Close  1692 non-null   float64\n",
      "dtypes: float64(5), int64(1)\n",
      "memory usage: 92.5 KB\n"
     ]
    }
   ],
   "source": [
    "df.info()"
   ]
  },
  {
   "cell_type": "code",
   "execution_count": 7,
   "metadata": {},
   "outputs": [
    {
     "data": {
      "image/png": "[encoded data removed]",
      "text/plain": [
       "<Figure size 432x288 with 1 Axes>"
      ]
     },
     "metadata": {
      "needs_background": "light"
     },
     "output_type": "display_data"
    }
   ],
   "source": [
    "df[[\"Open\", \"Close\"]].plot()\n",
    "plt.ylabel(\"US Dollars ($)\");"
   ]
  },
  {
   "attachments": {},
   "cell_type": "markdown",
   "metadata": {},
   "source": [
    "#### Calculating the volatility of the dataset:"
   ]
  },
  {
   "attachments": {},
   "cell_type": "markdown",
   "metadata": {},
   "source": [
    "$ Volatility = Daily Return Standard Deviation * \\sqrt(Yearly Trading Days) $"
   ]
  },
  {
   "cell_type": "code",
   "execution_count": 8,
   "metadata": {},
   "outputs": [
    {
     "data": {
      "text/plain": [
       "array([-5.10596556e-02,  2.29619396e-02,  1.09605474e-02, -5.64695165e-04,\n",
       "       -1.41790742e-02,  1.26135119e-02,  3.34676562e-02,  3.88013880e-02,\n",
       "        3.37571196e-02,  3.82085362e-02, -3.14594870e-02, -2.81131324e-02,\n",
       "       -6.00048013e-04, -8.43815421e-03,  2.67159989e-02, -1.05453218e-02,\n",
       "        1.04667268e-02, -2.47837417e-03, -2.59765629e-02,  1.04557434e-02,\n",
       "       -6.74352501e-03,  2.17521407e-02, -7.63495598e-03,  7.59556605e-03,\n",
       "       -8.98643831e-03, -1.50649668e-02, -2.84581694e-02,  4.31038468e-03,\n",
       "       -3.99951888e-02, -4.29190426e-02, -5.08298915e-02,  1.59455335e-02,\n",
       "       -2.83609672e-02, -1.10148714e-03,  1.29297274e-03, -8.07234816e-03,\n",
       "        1.59079308e-03,  3.26998132e-03, -1.75812206e-02,  3.13134016e-02,\n",
       "        1.89508413e-02,  2.32851317e-02, -1.86030474e-02,  7.78573938e-03,\n",
       "        7.63448805e-03,  2.49169312e-02, -9.28247497e-03,  8.51515971e-04,\n",
       "       -1.65770776e-02, -2.73643787e-03,  1.36992804e-04,  7.68756718e-03,\n",
       "        5.14881422e-02,  1.35940537e-02, -2.65030266e-02, -4.71804923e-02,\n",
       "       -4.21380198e-03, -1.34465348e-02,  1.26659576e-02,  1.05592373e-03,\n",
       "       -1.13521848e-02,  1.94412724e-02, -4.09715243e-04, -1.10376881e-01,\n",
       "       -1.32300432e-03, -1.66863073e-02,  2.75739146e-02,  1.61865453e-02,\n",
       "        4.07843751e-02,  9.89426016e-03,  1.96843942e-02, -1.17080134e-02,\n",
       "        2.14745427e-03,  6.97061229e-03,  3.88240919e-03,  3.62391319e-02,\n",
       "       -5.78532833e-04, -9.48168932e-03, -4.50390350e-03, -5.11396592e-03,\n",
       "        2.61965325e-02, -4.38531416e-03,  1.36680671e-02, -3.50256406e-02,\n",
       "        7.99518221e-03,  3.42298874e-02, -2.17618475e-03, -4.45411217e-03,\n",
       "        9.23550878e-03,  1.79634914e-02, -2.05687033e-02, -1.22920909e-02,\n",
       "       -6.22534089e-03,  2.11226436e-02, -2.51824551e-03, -1.69669998e-02,\n",
       "        1.28285652e-02, -1.50861966e-02, -3.28475972e-03,  3.10750935e-03,\n",
       "       -8.86746460e-05, -8.81570720e-03, -1.65601915e-03,  1.20868509e-03,\n",
       "        6.64426879e-03, -9.24261277e-03,  8.53123091e-03, -9.92276074e-03,\n",
       "       -7.48453826e-03, -4.39960784e-03, -2.20142992e-02, -1.80996223e-02,\n",
       "        3.16522770e-03, -5.44734256e-02, -1.50046974e-02,  2.52129028e-02,\n",
       "       -5.53714261e-03, -2.18015797e-02, -1.47515626e-02,  1.95031360e-02,\n",
       "       -1.14113066e-02,  1.83458745e-03,  2.02108232e-02,  2.45441136e-02,\n",
       "        4.56600600e-03, -8.27294134e-03,  2.83024636e-03,  5.87875867e-03,\n",
       "        4.92899434e-03,  7.39609554e-03, -1.53330245e-02,  2.23260624e-03,\n",
       "       -2.73747687e-02,  1.64557961e-02,  4.63061113e-02, -1.07737534e-02,\n",
       "       -1.40521850e-02, -3.64423018e-02, -2.20828319e-02,  2.18340298e-02,\n",
       "       -4.23883439e-03,  7.02171156e-03, -6.32231104e-03, -1.88033769e-02,\n",
       "       -1.30613068e-02,  2.61552529e-02,  2.21535507e-02, -2.21535507e-02,\n",
       "        4.96000413e-03,  1.32557436e-02, -2.07355794e-03, -4.94295327e-04,\n",
       "        8.71385206e-03, -2.00016274e-02, -1.12649168e-02, -3.57291335e-02,\n",
       "       -1.46249486e-02, -3.19628440e-03,  1.66150181e-02,  1.38106214e-02,\n",
       "        8.91411267e-03, -2.53520279e-02, -2.50938393e-02,  1.71702861e-02,\n",
       "       -3.84361309e-02,  1.27048803e-02,  8.70214911e-04,  2.53912620e-02,\n",
       "       -1.94825255e-02, -2.70606859e-03,  3.54051937e-02,  1.02522353e-02,\n",
       "        1.80101590e-02, -2.69877708e-03, -3.39683049e-02, -8.97237306e-04,\n",
       "       -4.05139926e-02, -2.25680015e-03,  2.89481856e-02, -5.09861283e-03,\n",
       "        3.85271290e-02, -4.46244529e-03, -5.72216334e-04,  1.30001843e-03,\n",
       "        2.92918745e-02,  2.72154187e-03, -5.60225549e-03,  2.45469516e-02,\n",
       "        1.18449745e-03,  2.94539039e-02, -5.23421218e-03,  3.60447350e-03,\n",
       "        2.31879285e-02,  2.86017744e-02,  9.56159146e-04, -2.32965373e-02,\n",
       "       -4.62213868e-03,  1.53249166e-02,  4.50546931e-02, -1.05789668e-03,\n",
       "        9.91755989e-03,  9.86344449e-03, -6.11518340e-03, -6.09221093e-04,\n",
       "       -6.09596825e-04,  3.49246094e-02, -9.16913441e-03,  1.17315731e-02,\n",
       "        2.24019741e-02,  3.97143152e-03,  1.69760060e-02,  2.26014149e-02,\n",
       "       -5.50011798e-04, -7.73212269e-03,  1.74099679e-03, -9.21406094e-03,\n",
       "        5.17347542e-03, -1.07349356e-02,  9.22548113e-03, -8.74964253e-04,\n",
       "        2.53008472e-02, -1.12558188e-03,  1.77076612e-02,  2.68048913e-02,\n",
       "        1.11431379e-04,  4.13641153e-02,  1.35334252e-03, -4.35140307e-03,\n",
       "       -3.94065952e-02,  1.21218043e-02,  1.87771746e-02, -1.40862915e-02,\n",
       "       -6.61998201e-02,  3.93768415e-03, -4.28100427e-02,  1.51548948e-02,\n",
       "        1.19993598e-04,  1.83813039e-03,  4.34224761e-03, -1.43203807e-03,\n",
       "       -1.04843337e-02, -6.94307488e-03, -8.01192257e-03, -4.95300552e-03,\n",
       "        1.01254121e-02,  4.69372389e-02, -8.83740016e-03,  2.44130947e-02,\n",
       "       -2.10099595e-03, -1.72680857e-02])"
      ]
     },
     "execution_count": 8,
     "metadata": {},
     "output_type": "execute_result"
    }
   ],
   "source": [
    "daily_returns = np.zeros(250)\n",
    "for i in range(len(df)-250,len(df)):\n",
    "    daily_returns[i-1-len(df)+250] = np.log(df[\"Close\"][i]/df[\"Close\"][i-1])\n",
    "\n",
    "daily_returns"
   ]
  },
  {
   "cell_type": "code",
   "execution_count": 9,
   "metadata": {},
   "outputs": [
    {
     "data": {
      "image/png": "[encoded data removed]",
      "text/latex": [
       "$\\displaystyle 0.331602301929386$"
      ],
      "text/plain": [
       "0.3316023019293858"
      ]
     },
     "execution_count": 9,
     "metadata": {},
     "output_type": "execute_result"
    }
   ],
   "source": [
    "annual_volatility = np.std(daily_returns) * 250**0.5\n",
    "annual_volatility"
   ]
  },
  {
   "cell_type": "code",
   "execution_count": 10,
   "metadata": {},
   "outputs": [
    {
     "data": {
      "text/html": [
       "<div>\n",
       "<style scoped>\n",
       "    .dataframe tbody tr th:only-of-type {\n",
       "        vertical-align: middle;\n",
       "    }\n",
       "\n",
       "    .dataframe tbody tr th {\n",
       "        vertical-align: top;\n",
       "    }\n",
       "\n",
       "    .dataframe thead th {\n",
       "        text-align: right;\n",
       "    }\n",
       "</style>\n",
       "<table border=\"1\" class=\"dataframe\">\n",
       "  <thead>\n",
       "    <tr style=\"text-align: right;\">\n",
       "      <th></th>\n",
       "      <th>Open</th>\n",
       "      <th>High</th>\n",
       "      <th>Low</th>\n",
       "      <th>Close</th>\n",
       "      <th>Volume</th>\n",
       "      <th>Adj Close</th>\n",
       "    </tr>\n",
       "    <tr>\n",
       "      <th>Date</th>\n",
       "      <th></th>\n",
       "      <th></th>\n",
       "      <th></th>\n",
       "      <th></th>\n",
       "      <th></th>\n",
       "      <th></th>\n",
       "    </tr>\n",
       "  </thead>\n",
       "  <tbody>\n",
       "    <tr>\n",
       "      <th>2017-03-13</th>\n",
       "      <td>244.820007</td>\n",
       "      <td>246.850006</td>\n",
       "      <td>242.779999</td>\n",
       "      <td>246.169998</td>\n",
       "      <td>3010700</td>\n",
       "      <td>246.169998</td>\n",
       "    </tr>\n",
       "    <tr>\n",
       "      <th>2017-03-14</th>\n",
       "      <td>246.110001</td>\n",
       "      <td>258.119995</td>\n",
       "      <td>246.020004</td>\n",
       "      <td>258.000000</td>\n",
       "      <td>7575500</td>\n",
       "      <td>258.000000</td>\n",
       "    </tr>\n",
       "    <tr>\n",
       "      <th>2017-03-15</th>\n",
       "      <td>257.000000</td>\n",
       "      <td>261.000000</td>\n",
       "      <td>254.270004</td>\n",
       "      <td>255.729996</td>\n",
       "      <td>4816600</td>\n",
       "      <td>255.729996</td>\n",
       "    </tr>\n",
       "    <tr>\n",
       "      <th>2017-03-16</th>\n",
       "      <td>262.399994</td>\n",
       "      <td>265.750000</td>\n",
       "      <td>259.059998</td>\n",
       "      <td>262.049988</td>\n",
       "      <td>7100400</td>\n",
       "      <td>262.049988</td>\n",
       "    </tr>\n",
       "    <tr>\n",
       "      <th>2017-03-17</th>\n",
       "      <td>264.000000</td>\n",
       "      <td>265.329987</td>\n",
       "      <td>261.200012</td>\n",
       "      <td>261.500000</td>\n",
       "      <td>6475900</td>\n",
       "      <td>261.500000</td>\n",
       "    </tr>\n",
       "  </tbody>\n",
       "</table>\n",
       "</div>"
      ],
      "text/plain": [
       "                  Open        High         Low       Close   Volume  \\\n",
       "Date                                                                  \n",
       "2017-03-13  244.820007  246.850006  242.779999  246.169998  3010700   \n",
       "2017-03-14  246.110001  258.119995  246.020004  258.000000  7575500   \n",
       "2017-03-15  257.000000  261.000000  254.270004  255.729996  4816600   \n",
       "2017-03-16  262.399994  265.750000  259.059998  262.049988  7100400   \n",
       "2017-03-17  264.000000  265.329987  261.200012  261.500000  6475900   \n",
       "\n",
       "             Adj Close  \n",
       "Date                    \n",
       "2017-03-13  246.169998  \n",
       "2017-03-14  258.000000  \n",
       "2017-03-15  255.729996  \n",
       "2017-03-16  262.049988  \n",
       "2017-03-17  261.500000  "
      ]
     },
     "execution_count": 10,
     "metadata": {},
     "output_type": "execute_result"
    }
   ],
   "source": [
    "df[-250:].tail()"
   ]
  },
  {
   "attachments": {},
   "cell_type": "markdown",
   "metadata": {},
   "source": [
    "### Model Numerical Solution Class:"
   ]
  },
  {
   "attachments": {},
   "cell_type": "markdown",
   "metadata": {},
   "source": [
    "#### Equation and Boundary Conditions:\n",
    "\n",
    "In log-variables the BS PDE is:\n",
    "\n",
    "$$ \\frac{\\partial  V(t,x)}{\\partial t}  \n",
    "          + \\biggl( r -\\frac{1}{2}\\sigma^2 \\biggr) \\frac{\\partial V(t,x)}{\\partial x}\n",
    "          + \\frac{1}{2} \\sigma^2 \\frac{\\partial^2  V(t,x)}{\\partial x^2} - r  V(t,x)  = 0. $$\n",
    "\n",
    "For an option with strike $K$ and maturity $T$, the boundary conditions are:\n",
    "\n",
    "CALL:\n",
    " - Terminal:\n",
    " $$ V(T,x) = \\max(e^x-K,0), $$\n",
    " - Lateral:\n",
    " $$ V(t, x) \\underset{x \\to -\\infty}{=} 0  ,  \\quad V(t, x) \\underset{x \\to \\infty}{\\sim} e^x - Ke^{-r(T-t)}. $$\n",
    "\n",
    "PUT:\n",
    " - Terminal:\n",
    " $$ V(T,x) = \\max(K-e^x,0), $$\n",
    " - Lateral:\n",
    "  $$ V(t, x) \\underset{x \\to -\\infty}{\\sim} Ke^{-r(T-t)} , \\quad V(t, x) \\underset{x \\to \\infty}{=} 0. $$"
   ]
  },
  {
   "attachments": {},
   "cell_type": "markdown",
   "metadata": {},
   "source": [
    "#### Finite Difference and Partial Derivatives Approximation:\n",
    "\n",
    "\\begin{equation}\n",
    " \\frac{\\partial V(t,x)}{\\partial x} \\approx \\frac{V(t,x+\\Delta x) - V(t,x-\\Delta x)}{2 \\Delta x} + \\mathcal{O}(\\Delta x^2)\n",
    "\\end{equation}\n",
    "\n",
    "\\begin{equation}\n",
    " \\frac{\\partial V(t,x)}{\\partial t} \\approx \\frac{V(t+\\Delta t,x) - V(t-\\Delta t,x)}{2 \\Delta t} + \\mathcal{O}(\\Delta t^2)\n",
    "\\end{equation}\n",
    "\n",
    "\\begin{equation}\n",
    " \\frac{\\partial^2 V(t,x)}{\\partial x^2} \\approx \\frac{V(t,x+\\Delta x) + V(t,x-\\Delta x) - 2V(t,x)}{ \\Delta x^2} + \\mathcal{O}(\\Delta x^2)\n",
    "\\end{equation}\n"
   ]
  },
  {
   "attachments": {},
   "cell_type": "markdown",
   "metadata": {},
   "source": [
    "<a id='sec1.2'></a>\n",
    "## Implicit discretization\n",
    "\n",
    "\n",
    "First we have to restrict the theoretical infinite domain to the finite region $[t_0,T]\\, \\times \\, [A_1,A_2]$, with $A_1 < A_2$. \n",
    "\n",
    "The next step is to replace $[t_0,T]\\times [A_1,A_2]$ by a discrete grid:\n",
    "\n",
    "For $n = 0,1, ... N \\in \\mathbb{N}$, define the discrete time step $ \\Delta t = \\frac{T - t_0}{N} $ such that\n",
    "$t_n = t_0 + n \\Delta t$. For $i = 0,1, ... M \\in \\mathbb{N}$, define the discrete space step $ \\Delta x = \\frac{A_2 - A_1}{M} $ such that\n",
    "$x_i = A_1 + i \\Delta x$.\n",
    "\n",
    "The grid is divided into equally spaced nodes of distance $\\Delta x$ in the x-axis, and of distance $\\Delta t$ in the t-axis.\n",
    "\n",
    "The mesh points have the form $(t_0 + n \\Delta t, A_1 + i \\Delta x)$.\n",
    "At this point we concern ourselves only with the values of $V(t,x)$ on the mesh nodes. We call \n",
    "\n",
    "$$ V(t_0 + n \\Delta t, A_1 + i \\Delta x) = V_{n,i} .$$\n",
    "\n",
    "\n",
    "The discretized equation becomes\n",
    "\n",
    "$$ \\begin{aligned}\n",
    "\\frac{V_{n+1, i} -V_{n, i}}{\\Delta t} + \n",
    "(r-\\frac{1}{2}\\sigma^2) \\frac{V_{n, i+1} -V_{n, i-1}}{ 2 \\Delta x}\n",
    "+ \\frac{1}{2} \\sigma^2 \\frac{V_{n, i+1} + V_{n, i-1} - 2 V_{n,i}}{\\Delta x^2}  - r V_{n, i} = 0.\n",
    "\\end{aligned}$$\n",
    "\n",
    "Rearranging the terms: \n",
    "\n",
    "$$ \\begin{aligned}\n",
    " V^{n+1}_{i} &= V^{n}_{i} \\biggl( 1 + r\\Delta t + \\sigma^2 \\frac{\\Delta t}{\\Delta x^2} \\biggr)  \\\\\n",
    "& + V^{n}_{i+1} \\biggl( -(r -\\frac{1}{2}\\sigma^2)\\frac{\\Delta t}{2 \\Delta x} -\n",
    "\\frac{1}{2}\\sigma^2 \\frac{\\Delta t}{\\Delta x^2}  \\biggr)  \\\\\n",
    "& + V^{n}_{i-1} \\biggl( (r -\\frac{1}{2}\\sigma^2)\\frac{\\Delta t}{2 \\Delta x} - \n",
    "\\frac{1}{2}\\sigma^2 \\frac{\\Delta t}{\\Delta x^2}  \\biggr).\n",
    "\\end{aligned} $$\n",
    "\n",
    "We can rename the coefficients such that:   \n",
    "\n",
    "$$ V_{n+1, i} = a V_{n, i-1} + b V_{n, i} + c V_{n, i+1}, $$\n",
    "\n",
    "and write it in matrix form:\n",
    "\n",
    "$$\n",
    "\\left(\n",
    "\\begin{array}{c}\n",
    "V_{n+1, 1} \\\\\n",
    "V_{n+1, 2} \\\\\n",
    "\\vdots \\\\\n",
    "V_{n+1, M-2} \\\\\n",
    "V_{n+1, M-1} \\\\\n",
    "\\end{array}\n",
    "\\right) = \n",
    "\\underbrace{\n",
    "\\left(\n",
    "\\begin{array}{ccccc}\n",
    "b     & c  & 0 & \\cdots  & 0 \\\\\n",
    "a     & b  & c & 0  & 0  \\\\\n",
    "0      & \\ddots & \\ddots &   \\ddots     & 0  \\\\\n",
    "\\vdots & 0 & a & b  & c  \\\\\n",
    "0      & 0 & 0 & a  & b \\\\\n",
    "\\end{array}\n",
    "\\right) }_{\\mathcal{D}} \\cdot\n",
    "\\left(\n",
    "\\begin{array}{c}\n",
    "V_{n, 1} \\\\\n",
    "V_{n, 2} \\\\\n",
    "\\vdots \\\\\n",
    "V_{n,M-2} \\\\\n",
    "V_{n_M-1} \n",
    "\\end{array}\n",
    "\\right)\n",
    "+ \\underbrace{\n",
    "\\left(\n",
    "\\begin{array}{c}\n",
    " a V_{n, 0} \\\\\n",
    "  0 \\\\\n",
    " \\vdots \\\\\n",
    " 0 \\\\\n",
    "c V_{n, M} \\\\\n",
    "\\end{array}\n",
    "\\right) }_{B (boundary terms)}\n",
    "$$\n",
    "\n",
    "The system \n",
    "\n",
    "$$ V^{n+1} = \\mathcal{D} V^{n} + B $$"
   ]
  },
  {
   "cell_type": "markdown",
   "metadata": {},
   "source": []
  },
  {
   "cell_type": "code",
   "execution_count": 42,
   "metadata": {},
   "outputs": [],
   "source": [
    "class BSM:\n",
    "    def __init__(self, r, sigma,K, S_0,period, space_steps=3000, time_steps=2000, initial_time=0) -> None:\n",
    "        self.__r = r\n",
    "        self.__sigma = sigma\n",
    "        self.__K = K\n",
    "        self.__period = period\n",
    "        self.__S_0 = S_0\n",
    "        self.__x_0 = np.log(self.__S_0)\n",
    "        self.__time_steps = time_steps\n",
    "        self.__space_steps = space_steps\n",
    "        self.__S_max = 3*self.__K \n",
    "        self.__S_min = self.__K/3 \n",
    "        self.__x_max = np.log(self.__S_max)\n",
    "        self.__x_min = np.log(self.__S_min)\n",
    "        self.__X, self.__dx = np.linspace(self.__x_min, self.__x_max, self.__space_steps, retstep=True)\n",
    "        self.__T, self.__dt = np.linspace(initial_time, self.__period, self.__time_steps, retstep=True)\n",
    "\n",
    "    def calc_coeff(self)->tuple[float, float, float]:\n",
    "        sig2 = self.__sigma*self.__sigma; dxx = self.__dx * self.__dx\n",
    "\n",
    "        a = ( (self.__dt/2) * ( (self.__r-0.5*sig2)/self.__dx - sig2/dxx ) )\n",
    "        b = ( 1 + self.__dt * ( sig2/dxx + self.__r ) )\n",
    "        c = (-(self.__dt/2) * ( (self.__r-0.5*sig2)/self.__dx + sig2/dxx ) )\n",
    "\n",
    "        return a, b, c\n",
    "\n",
    "    def coeff_matrix(self):\n",
    "        a, b, c = self.calc_coeff()\n",
    "\n",
    "        D = sparse.diags([a, b, c], [-1, 0, 1], shape=(self.__space_steps-2, self.__space_steps-2)).tocsc()\n",
    "        return D\n",
    "\n",
    "\n",
    "    def solve(self, terminal_condition, boundary_condition_1, boundary_condition_2):\n",
    "        V = np.zeros((self.__space_steps, self.__time_steps))\n",
    "        #terminal condition\n",
    "        Payoff = terminal_condition\n",
    "        V[:, -1] = Payoff\n",
    "        #boundary conditions\n",
    "        V[0, :] = boundary_condition_1\n",
    "        V[-1, :] = boundary_condition_2\n",
    "        offset = np.zeros(self.__space_steps-2)\n",
    "        a, b, c = self.calc_coeff()\n",
    "        D = self.coeff_matrix()\n",
    "        \n",
    "        for i in range(self.__time_steps-2,-1,-1):\n",
    "            offset[0] = a * V[0,i]\n",
    "            offset[-1] = c * V[-1,i]; \n",
    "            V[1:-1,i] = spsolve( D, (V[1:-1,i+1] - offset) ) \n",
    "        \n",
    "        return V\n",
    "\n",
    "    def solve_call(self):\n",
    "        #terminal condition\n",
    "        terminal_condition = np.maximum(np.exp(self.__X)-self.__K, 0)\n",
    "        #boundary conditions\n",
    "        boundary_condition_1 = 0\n",
    "        boundary_condition_2 = np.exp(self.__x_max) - self.__K * np.exp(-self.__r* self.__T[::-1] )\n",
    "       \n",
    "        return self.solve(terminal_condition, boundary_condition_1, boundary_condition_2)\n",
    "\n",
    "    def solve_put(self):\n",
    "        #terminal condition\n",
    "        terminal_condition = np.maximum(self.__K-np.exp(self.__X), 0)\n",
    "        #boundary conditions\n",
    "        boundary_condition_2 = 0\n",
    "        boundary_condition_1 = self.__K * np.exp(-self.__r* self.__T[::-1] )\n",
    "        \n",
    "        return self.solve(terminal_condition, boundary_condition_1, boundary_condition_2)\n",
    "    \n",
    "    def solve_call_for(self, S0, t):\n",
    "        return np.interp(np.log(S0), self.__X, self.solve_call()[:, t])\n",
    "\n",
    "    def solve_put_for(self, S0, t):                                                                     \n",
    "        return np.interp(np.log(S0), self.__X, self.solve_put()[:, t])\n",
    "    \n",
    "    def calc_and_graph(self,type=\"Call\"):\n",
    "        X, Y = np.meshgrid(self.__T, np.exp(self.__X))\n",
    "        V = []\n",
    "        if type==\"Call\":\n",
    "            V = self.solve_call()\n",
    "        else:\n",
    "            V = self.solve_put()\n",
    "\n",
    "        fig, ax = plt.subplots(subplot_kw={\"projection\": \"3d\"})\n",
    "        ax.plot_surface(Y, X, V, cmap=cm.CMRmap)\n",
    "        ax.set_title(f\"{type} option surface\")\n",
    "        ax.set_xlabel(\"S\");\n",
    "        ax.set_ylabel(\"t\"); \n",
    "        ax.set_zlabel(\"Call Option Price\")\n",
    "        ax.view_init(30, -50)\n",
    "        plt.show()\n",
    "\n"
   ]
  },
  {
   "cell_type": "code",
   "execution_count": 39,
   "metadata": {},
   "outputs": [],
   "source": [
    "r = 0.1\n",
    "sig = annual_volatility               \n",
    "S0 = 100          \n",
    "K = 400\n",
    "\n",
    "expiration_period = 1      \n",
    "test = BSM(r, sig, K, S0, expiration_period)"
   ]
  },
  {
   "cell_type": "code",
   "execution_count": 17,
   "metadata": {},
   "outputs": [
    {
     "name": "stdout",
     "output_type": "stream",
     "text": [
      "0.0 361.9349672143838\n",
      "1.2984177447871785 186.68012588191172\n",
      "19.330240233983748 82.53559855859652\n",
      "71.43802886203578 33.44566644536504\n",
      "150.29074933547443 12.231400673501959\n"
     ]
    }
   ],
   "source": [
    "prices = [100,200,300,400,500]\n",
    "\n",
    "for S in prices:\n",
    "    print(test.solve_call_for(S,0),test.solve_put_for(S,0))"
   ]
  },
  {
   "cell_type": "code",
   "execution_count": 43,
   "metadata": {},
   "outputs": [
    {
     "data": {
      "image/png": "[encoded data removed]",
      "text/plain": [
       "<Figure size 432x288 with 1 Axes>"
      ]
     },
     "metadata": {
      "needs_background": "light"
     },
     "output_type": "display_data"
    }
   ],
   "source": [
    "test.calc_and_graph()"
   ]
  },
  {
   "cell_type": "code",
   "execution_count": 44,
   "metadata": {},
   "outputs": [
    {
     "data": {
      "image/png": "[encoded data removed]",
      "text/plain": [
       "<Figure size 432x288 with 1 Axes>"
      ]
     },
     "metadata": {
      "needs_background": "light"
     },
     "output_type": "display_data"
    }
   ],
   "source": [
    "test.calc_and_graph(\"Put\")"
   ]
  },
  {
   "cell_type": "code",
   "execution_count": null,
   "metadata": {},
   "outputs": [],
   "source": []
  }
 ],
 "metadata": {
  "kernelspec": {
   "display_name": "base",
   "language": "python",
   "name": "python3"
  },
  "language_info": {
   "codemirror_mode": {
    "name": "ipython",
    "version": 3
   },
   "file_extension": ".py",
   "mimetype": "text/x-python",
   "name": "python",
   "nbconvert_exporter": "python",
   "pygments_lexer": "ipython3",
   "version": "3.9.12"
  },
  "orig_nbformat": 4,
  "vscode": {
   "interpreter": {
    "hash": "32d20930fe14f4647defcd42c713f0f5b138fd86281614e9386efc8a461376b6"
   }
  }
 },
 "nbformat": 4,
 "nbformat_minor": 2
}
