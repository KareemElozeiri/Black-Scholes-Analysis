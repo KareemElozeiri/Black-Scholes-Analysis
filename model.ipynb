{
 "cells": [
  {
   "attachments": {},
   "cell_type": "markdown",
   "metadata": {},
   "source": [
    "#                                                       The Black-Scholes PDE"
   ]
  },
  {
   "attachments": {},
   "cell_type": "markdown",
   "metadata": {},
   "source": [
    "### Imports:"
   ]
  },
  {
   "cell_type": "code",
   "execution_count": 5,
   "metadata": {},
   "outputs": [],
   "source": [
    "import numpy as np\n",
    "import scipy as scp\n",
    "import matplotlib.pyplot as plt\n",
    "from mpl_toolkits import mplot3d\n",
    "from matplotlib import cm\n",
    "%matplotlib inline\n",
    "\n",
    "from scipy import sparse\n",
    "from scipy.sparse.linalg import splu\n",
    "from scipy.sparse.linalg import spsolve\n",
    "\n",
    "from IPython.display import display\n",
    "import sympy \n",
    "sympy.init_printing()"
   ]
  },
  {
   "attachments": {},
   "cell_type": "markdown",
   "metadata": {},
   "source": [
    "### Model Numerical Solution Class:"
   ]
  },
  {
   "cell_type": "code",
   "execution_count": null,
   "metadata": {},
   "outputs": [],
   "source": [
    "class BSM:\n",
    "    def __init__(self, r, sigma,K, S_0,period, space_steps=3000, time_steps=2000, initial_time=0) -> None:\n",
    "        self.__r = r\n",
    "        self.__sigma = sigma\n",
    "        self.__K = K\n",
    "        self.__period = period\n",
    "        self.__S_0 = S_0\n",
    "        self.__x_0 = np.log(self.__S_0)\n",
    "        self.__time_steps = time_steps\n",
    "        self.__space_steps = space_steps\n",
    "        self.__S_max = 3*self.__K \n",
    "        self.__S_min = self.__K/3 \n",
    "        self.__x_max = np.log(self.__S_max)\n",
    "        self.__x_min = np.log(self.__S_min)\n",
    "        self.__X, self.__dx = np.linspace(self.__x_min, self.__x_max, self.__space_steps, retstep=True)\n",
    "        self.__T, self.__dt = np.linspace(initial_time, self.__period, self.__time_steps, retstep=True)\n",
    "\n",
    "    def calc_coeff(self):\n",
    "        sig2 = self.__sigma*self.__sigma; dxx = self.__dx * self.__dx\n",
    "\n",
    "        a = ( (self.__dt/2) * ( (self.__r-0.5*sig2)/self.__dx - sig2/dxx ) )\n",
    "        b = ( 1 + self.__dt * ( sig2/dxx + self.__r ) )\n",
    "        c = (-(self.__dt/2) * ( (self.__r-0.5*sig2)/self.__dx + sig2/dxx ) )\n",
    "\n",
    "        return a, b, c\n",
    "\n",
    "    def coeff_matrix(self):\n",
    "        a, b, c = self.calc_coeff()\n",
    "\n",
    "        D = sparse.diags([a, b, c], [-1, 0, 1], shape=(self.__space_steps-2, self.__space_steps-2)).tocsc()\n",
    "        return D\n",
    "\n",
    "    def solve_call(self):\n",
    "        V = np.zeros((self.__space_steps, self.__time_steps))\n",
    "        #terminal condition\n",
    "        Payoff = np.maximum(np.exp(self.__X)-self.__K, 0)\n",
    "        V[:, -1] = Payoff\n",
    "        #boundary conditions\n",
    "        V[0, :] = 0\n",
    "        V[-1, :] = np.exp(self.__x_max) - self.__K * np.exp(-self.__r* self.__T[::-1] )\n",
    "        offset = np.zeros(self.__space_steps-2)\n",
    "        a, b, c = self.calc_coeff()\n",
    "        D = self.coeff_matrix()\n",
    "        \n",
    "        for i in range(self.__time_steps-2,-1,-1):\n",
    "            offset[0] = a * V[0,i]\n",
    "            offset[-1] = c * V[-1,i]; \n",
    "            V[1:-1,i] = spsolve( D, (V[1:-1,i+1] - offset) ) \n",
    "\n",
    "    def solve_put(self):\n",
    "        V = np.zeros((self.__space_steps, self.__time_steps))\n",
    "        #terminal condition\n",
    "        Payoff = np.maximum(self.__K-np.exp(self.__X), 0)\n",
    "        V[:, -1] = Payoff\n",
    "        #boundary conditions\n",
    "        V[-1, :] = 0\n",
    "        V[0, :] = self.__K * np.exp(-self.__r* self.__T[::-1] )\n",
    "        offset = np.zeros(self.__space_steps-2)\n",
    "        a, b, c = self.calc_coeff()\n",
    "        D = self.coeff_matrix()\n",
    "        \n",
    "        for i in range(self.__time_steps-2,-1,-1):\n",
    "            offset[0] = a * V[0,i]\n",
    "            offset[-1] = c * V[-1,i]; \n",
    "            V[1:-1,i] = spsolve( D, (V[1:-1,i+1] - offset) ) \n",
    "\n",
    "\n",
    "\n",
    "\n",
    "\n"
   ]
  },
  {
   "cell_type": "code",
   "execution_count": 18,
   "metadata": {},
   "outputs": [
    {
     "data": {
      "text/plain": [
       "array([0., 2., 0., 0.])"
      ]
     },
     "execution_count": 18,
     "metadata": {},
     "output_type": "execute_result"
    }
   ],
   "source": [
    "x = np.zeros((3,4))\n",
    "x[0,0] = 1\n",
    "x[1,1] = 2\n",
    "x[2,2] = 3\n",
    "x[1,:]"
   ]
  },
  {
   "cell_type": "code",
   "execution_count": 19,
   "metadata": {},
   "outputs": [
    {
     "data": {
      "text/plain": [
       "array([0., 0., 0., 0.])"
      ]
     },
     "execution_count": 19,
     "metadata": {},
     "output_type": "execute_result"
    }
   ],
   "source": [
    "np.zeros(4)"
   ]
  },
  {
   "cell_type": "code",
   "execution_count": 20,
   "metadata": {},
   "outputs": [
    {
     "data": {
      "text/plain": [
       "array([[0., 0., 0.],\n",
       "       [0., 0., 0.],\n",
       "       [0., 0., 0.],\n",
       "       [0., 0., 0.],\n",
       "       [0., 0., 0.]])"
      ]
     },
     "execution_count": 20,
     "metadata": {},
     "output_type": "execute_result"
    }
   ],
   "source": [
    "np.zeros((5,3))"
   ]
  },
  {
   "cell_type": "code",
   "execution_count": null,
   "metadata": {},
   "outputs": [],
   "source": []
  }
 ],
 "metadata": {
  "kernelspec": {
   "display_name": "Python 3",
   "language": "python",
   "name": "python3"
  },
  "language_info": {
   "codemirror_mode": {
    "name": "ipython",
    "version": 3
   },
   "file_extension": ".py",
   "mimetype": "text/x-python",
   "name": "python",
   "nbconvert_exporter": "python",
   "pygments_lexer": "ipython3",
   "version": "3.10.6"
  },
  "orig_nbformat": 4,
  "vscode": {
   "interpreter": {
    "hash": "767d51c1340bd893661ea55ea3124f6de3c7a262a8b4abca0554b478b1e2ff90"
   }
  }
 },
 "nbformat": 4,
 "nbformat_minor": 2
}
